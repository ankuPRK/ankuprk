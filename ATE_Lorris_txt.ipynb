{
 "cells": [
  {
   "cell_type": "code",
   "execution_count": 1,
   "metadata": {},
   "outputs": [],
   "source": [
    "import numpy as np\n",
    "import os"
   ]
  },
  {
   "cell_type": "code",
   "execution_count": 2,
   "metadata": {},
   "outputs": [],
   "source": [
    "from evo.tools import file_interface\n",
    "from evo.core import sync\n"
   ]
  },
  {
   "cell_type": "code",
   "execution_count": 6,
   "metadata": {},
   "outputs": [
    {
     "name": "stdout",
     "output_type": "stream",
     "text": [
      "Trajectory is valid!!\n"
     ]
    }
   ],
   "source": [
    "groundtruth_path=\"./wxyz/trajectories/groundtruth.txt\"\n",
    "trajectory_path=\"./wxyz/trajectories/allison_predict_boxes_translation.txt\"\n",
    "\n",
    "nerr= 0\n",
    "with open(trajectory_path,\"r\") as fp:\n",
    "    lll = fp.readlines()\n",
    "    \n",
    "    for i,l in enumerate(lll):\n",
    "        if not len(l[:-1].split(\" \")) == 8:\n",
    "            nerr+=1\n",
    "            print(\"Line no.\",i,l)\n",
    "        try:\n",
    "            aaa = [float(t) for t in l[:-1].split(\" \")]\n",
    "        except:\n",
    "            nerr+=1\n",
    "            print(\"Line no.\", i,l)\n",
    "if nerr==0:\n",
    "    print(\"Trajectory is valid!!\")\n",
    "else:\n",
    "    print(\"Trajectory is invalid!!\")    "
   ]
  },
  {
   "cell_type": "code",
   "execution_count": 7,
   "metadata": {},
   "outputs": [],
   "source": [
    "#Read the groundtruth trajectory\n",
    "traj_ref = file_interface.read_tum_trajectory_file(groundtruth_path)\n",
    "#Read the estimated trajectory i.e. the one you created\n",
    "traj_est = file_interface.read_tum_trajectory_file(trajectory_path)\n",
    "#sync both the trajaectories\n",
    "traj_ref, traj_est = sync.associate_trajectories(traj_ref, traj_est, max_diff=1000)"
   ]
  },
  {
   "cell_type": "code",
   "execution_count": 8,
   "metadata": {},
   "outputs": [
    {
     "name": "stdout",
     "output_type": "stream",
     "text": [
      "11956 poses, 0.004m path length, 0.055s duration\n",
      "11956 poses, 43.558m path length, 0.056s duration\n"
     ]
    }
   ],
   "source": [
    "print(traj_ref)\n",
    "print(traj_est)"
   ]
  },
  {
   "cell_type": "code",
   "execution_count": 9,
   "metadata": {},
   "outputs": [
    {
     "name": "stderr",
     "output_type": "stream",
     "text": [
      "\n",
      "Bad key \"text.kerning_factor\" on line 4 in\n",
      "/home/rpl/anaconda3/lib/python3.7/site-packages/matplotlib/mpl-data/stylelib/_classic_test_patch.mplstyle.\n",
      "You probably need to get an updated matplotlibrc file from\n",
      "https://github.com/matplotlib/matplotlib/blob/v3.1.3/matplotlibrc.template\n",
      "or from the matplotlib source distribution\n"
     ]
    }
   ],
   "source": [
    "#run and ignore\n",
    "\n",
    "from evo.tools import log\n",
    "log.configure_logging()\n",
    "# interactive widgets configuration\n",
    "import ipywidgets\n",
    "\n",
    "\n",
    "from evo.tools import plot\n",
    "from evo.tools.plot import PlotMode\n",
    "from evo.core.metrics import PoseRelation, Unit\n",
    "from evo.tools.settings import SETTINGS\n",
    "\n",
    "# temporarily override some package settings\n",
    "SETTINGS.plot_figsize = [6, 6]\n",
    "SETTINGS.plot_split = True\n",
    "SETTINGS.plot_usetex = False\n",
    "\n",
    "# magic plot configuration\n",
    "import matplotlib.pyplot as plt\n",
    "%matplotlib inline\n",
    "%matplotlib notebook\n",
    "\n",
    "import evo.main_ape as main_ape\n",
    "import evo.common_ape_rpe as common\n",
    "\n",
    "# interactive widgets configuration\n",
    "import ipywidgets\n",
    "\n",
    "check_opts_ape = {\"align\": False, \"correct_scale\": False, \"show_plot\": True}\n",
    "check_boxes_ape=[ipywidgets.Checkbox(description=desc, value=val) for desc, val in check_opts_ape.items()]\n",
    "check_opts_rpe = {\"align\": False, \"correct_scale\": False, \"all_pairs\": False, \"show_plot\": True}\n",
    "check_boxes_rpe=[ipywidgets.Checkbox(description=desc, value=val) for desc, val in check_opts_rpe.items()]\n",
    "delta_input = ipywidgets.FloatText(value=1.0, description='delta', disabled=False, color='black')\n",
    "delta_unit_selector=ipywidgets.Dropdown(\n",
    "    options={u.value: u for u in Unit if u is not Unit.seconds},\n",
    "    value=Unit.frames, description='delta_unit'\n",
    ")\n",
    "plotmode_selector=ipywidgets.Dropdown(\n",
    "    options={p.value: p for p in PlotMode},\n",
    "    value=PlotMode.xy, description='plot_mode'\n",
    ")\n",
    "pose_relation_selector=ipywidgets.Dropdown(\n",
    "    options={p.value: p for p in PoseRelation},\n",
    "    value=PoseRelation.translation_part, description='pose_relation'\n",
    ")"
   ]
  },
  {
   "cell_type": "code",
   "execution_count": 10,
   "metadata": {},
   "outputs": [
    {
     "data": {
      "application/vnd.jupyter.widget-view+json": {
       "model_id": "99c07d593dcc45bb9e2c6a4b25806d1e",
       "version_major": 2,
       "version_minor": 0
      },
      "text/plain": [
       "interactive(children=(Dropdown(description='pose_relation', index=1, options={'full transformation': <PoseRela…"
      ]
     },
     "metadata": {},
     "output_type": "display_data"
    }
   ],
   "source": [
    "#run and ignore\n",
    "\n",
    "count = 0\n",
    "results = []\n",
    "\n",
    "def callback_ape(pose_relation, align, correct_scale, plot_mode, show_plot):\n",
    "    global results, count\n",
    "    est_name=\"APE Test #{}\".format(count)\n",
    "    \n",
    "    result = main_ape.ape(traj_ref, traj_est, est_name=est_name,\n",
    "                          pose_relation=pose_relation, align=align, correct_scale=correct_scale)\n",
    "    count += 1\n",
    "    results.append(result)\n",
    "    \n",
    "    if show_plot:\n",
    "        fig = plt.figure()\n",
    "        ax = plot.prepare_axis(fig, plot_mode)\n",
    "        plot.traj(ax, plot_mode, traj_ref, style=\"--\", alpha=0.5)\n",
    "        plot.traj_colormap(\n",
    "            ax, result.trajectories[est_name], result.np_arrays[\"error_array\"], plot_mode,\n",
    "            min_map=result.stats[\"min\"], max_map=result.stats[\"max\"])\n",
    "    \n",
    "_ = ipywidgets.interact_manual(callback_ape, pose_relation=pose_relation_selector, plot_mode=plotmode_selector,\n",
    "                               **{c.description: c.value for c in check_boxes_ape})"
   ]
  },
  {
   "cell_type": "code",
   "execution_count": null,
   "metadata": {},
   "outputs": [],
   "source": [
    "import os\n",
    "dd = \"../data/event_fused_pos_neg/\"\n",
    "ll = os.listdir(dd+\"images/\")\n",
    "ll.sort()\n",
    "ts = [str(float(l[:-4])/10.0) for l in ll]    "
   ]
  },
  {
   "cell_type": "code",
   "execution_count": null,
   "metadata": {},
   "outputs": [],
   "source": [
    "# traj_ref = file_interface.read_tum_trajectory_file(DIR+\"groundtruth.txt\")\n",
    "with open(dd+\"rgb.txt\", \"w\") as fp:\n",
    "    for i in range(len(ll)):\n",
    "        l = str(ts[i])+\" images/\"+ll[i]+\"\\n\"\n",
    "        fp.write(l)\n",
    "with open(dd+\"depth.txt\", \"w\") as fp:\n",
    "    for i in range(len(ll)):\n",
    "        l = str(ts[i])+\" images/\"+ll[i]+\"\\n\"\n",
    "        fp.write(l)"
   ]
  },
  {
   "cell_type": "code",
   "execution_count": null,
   "metadata": {},
   "outputs": [],
   "source": [
    "with open(\"/Users/arpit/Spring20/SLAM_16833/project/data/boxes_translation/update_bag_translation_3.txt\",\"r\") as fp:\n",
    "    lll = fp.readlines()\n",
    "    for i,l in enumerate(lll):\n",
    "        if not len(l[:-1].split(\" \")) == 8:\n",
    "            print(str(i+1)+\",,\"+l)\n",
    "        try:\n",
    "            aaa = [float(t) for t in l[:-1].split(\" \")]\n",
    "        except:\n",
    "            print(i,l)\n",
    "#     lll = [[float(t) for t in l[:-1].split(\" \")] for l in lll]\n",
    "    "
   ]
  },
  {
   "cell_type": "code",
   "execution_count": null,
   "metadata": {},
   "outputs": [],
   "source": [
    "ref = lll[0][0]\n",
    "for ll in lll:\n",
    "    ll[0] = (ll[0] - ref)/1e9"
   ]
  },
  {
   "cell_type": "code",
   "execution_count": null,
   "metadata": {},
   "outputs": [],
   "source": [
    "with open(\"./boxes_translation/boxes_translation_5000_pos2.txt\",\"w\") as fp:\n",
    "    mmm = [\" \".join([str(i) for i in ll])+\"\\n\" for ll in lll]\n",
    "    for mm in mmm:\n",
    "        fp.write(mm)"
   ]
  },
  {
   "cell_type": "code",
   "execution_count": null,
   "metadata": {},
   "outputs": [],
   "source": [
    "# ORBSLAM2 + RGB\n",
    "       max\t0.453927\n",
    "      mean\t0.045071\n",
    "    median\t0.039625\n",
    "       min\t0.021291\n",
    "      rmse\t0.051572\n",
    "       sse\t3.343230\n",
    "       std\t0.025066\n",
    "#ORBSLAM2 + Events5000:\n",
    "    not initialized\n",
    "#ORBSLAM2 + Eventspos+neg:\n",
    "    not initialized\n"
   ]
  },
  {
   "cell_type": "code",
   "execution_count": null,
   "metadata": {},
   "outputs": [],
   "source": [
    "import os\n",
    "import cv2 \n",
    "\n",
    "indir = \"../data/event_fused_pos_neg/images/\"\n",
    "outdir= \"../data/event_fused_pos_neg/images_blur/\"\n",
    "# os.mkdir(outdir)\n",
    "im_in = [indir+f for f in os.listdir(indir)]\n",
    "im_out = [outdir+f for f in os.listdir(indir)]\n",
    "for i,impath in enumerate(im_in):\n",
    "    img = cv2.GaussianBlur(cv2.imread(impath), (5,5), 0)\n",
    "    cv2.imwrite(im_out[i], img, )\n",
    "#     break\n"
   ]
  },
  {
   "cell_type": "code",
   "execution_count": null,
   "metadata": {},
   "outputs": [],
   "source": []
  }
 ],
 "metadata": {
  "kernelspec": {
   "display_name": "Python 3",
   "language": "python",
   "name": "python3"
  },
  "language_info": {
   "codemirror_mode": {
    "name": "ipython",
    "version": 3
   },
   "file_extension": ".py",
   "mimetype": "text/x-python",
   "name": "python",
   "nbconvert_exporter": "python",
   "pygments_lexer": "ipython3",
   "version": "3.7.4"
  }
 },
 "nbformat": 4,
 "nbformat_minor": 2
}
